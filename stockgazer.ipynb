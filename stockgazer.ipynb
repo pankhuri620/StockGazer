{
 "cells": [
  {
   "cell_type": "code",
   "execution_count": 1,
   "id": "e3e7a6da",
   "metadata": {
    "execution": {
     "iopub.execute_input": "2025-01-16T08:05:50.925458Z",
     "iopub.status.busy": "2025-01-16T08:05:50.925054Z",
     "iopub.status.idle": "2025-01-16T08:05:52.001722Z",
     "shell.execute_reply": "2025-01-16T08:05:52.000541Z"
    },
    "papermill": {
     "duration": 1.090487,
     "end_time": "2025-01-16T08:05:52.004499",
     "exception": false,
     "start_time": "2025-01-16T08:05:50.914012",
     "status": "completed"
    },
    "tags": []
   },
   "outputs": [],
   "source": [
    "import pandas as pd\n",
    "import numpy as np\n",
    "import matplotlib.pyplot as plt"
   ]
  },
  {
   "cell_type": "markdown",
   "id": "6d9adb9b",
   "metadata": {
    "id": "V0-ARjRpyD_Z",
    "papermill": {
     "duration": 0.009431,
     "end_time": "2025-01-16T08:05:52.024494",
     "exception": false,
     "start_time": "2025-01-16T08:05:52.015063",
     "status": "completed"
    },
    "tags": []
   },
   "source": [
    "### data set reading"
   ]
  },
  {
   "cell_type": "code",
   "execution_count": 2,
   "id": "5e1c1e5c",
   "metadata": {
    "execution": {
     "iopub.execute_input": "2025-01-16T08:05:52.048613Z",
     "iopub.status.busy": "2025-01-16T08:05:52.048085Z",
     "iopub.status.idle": "2025-01-16T08:05:52.112947Z",
     "shell.execute_reply": "2025-01-16T08:05:52.111831Z"
    },
    "id": "f9km41fjyD_b",
    "outputId": "b8ac21aa-42cd-4dbd-f904-1f0416fef2cf",
    "papermill": {
     "duration": 0.079545,
     "end_time": "2025-01-16T08:05:52.115375",
     "exception": false,
     "start_time": "2025-01-16T08:05:52.035830",
     "status": "completed"
    },
    "scrolled": true,
    "tags": []
   },
   "outputs": [
    {
     "data": {
      "text/html": [
       "<div>\n",
       "<style scoped>\n",
       "    .dataframe tbody tr th:only-of-type {\n",
       "        vertical-align: middle;\n",
       "    }\n",
       "\n",
       "    .dataframe tbody tr th {\n",
       "        vertical-align: top;\n",
       "    }\n",
       "\n",
       "    .dataframe thead th {\n",
       "        text-align: right;\n",
       "    }\n",
       "</style>\n",
       "<table border=\"1\" class=\"dataframe\">\n",
       "  <thead>\n",
       "    <tr style=\"text-align: right;\">\n",
       "      <th></th>\n",
       "      <th>Date</th>\n",
       "      <th>Close/Last</th>\n",
       "      <th>Volume</th>\n",
       "      <th>Open</th>\n",
       "      <th>High</th>\n",
       "      <th>Low</th>\n",
       "    </tr>\n",
       "  </thead>\n",
       "  <tbody>\n",
       "    <tr>\n",
       "      <th>0</th>\n",
       "      <td>03/1/2000</td>\n",
       "      <td>233.05</td>\n",
       "      <td>4456424</td>\n",
       "      <td>237.50</td>\n",
       "      <td>251.70</td>\n",
       "      <td>237.50</td>\n",
       "    </tr>\n",
       "    <tr>\n",
       "      <th>1</th>\n",
       "      <td>04/1/2000</td>\n",
       "      <td>251.70</td>\n",
       "      <td>9487878</td>\n",
       "      <td>258.40</td>\n",
       "      <td>271.85</td>\n",
       "      <td>251.30</td>\n",
       "    </tr>\n",
       "    <tr>\n",
       "      <th>2</th>\n",
       "      <td>05/1/2000</td>\n",
       "      <td>271.85</td>\n",
       "      <td>26833684</td>\n",
       "      <td>256.65</td>\n",
       "      <td>287.90</td>\n",
       "      <td>256.65</td>\n",
       "    </tr>\n",
       "    <tr>\n",
       "      <th>3</th>\n",
       "      <td>06/1/2000</td>\n",
       "      <td>282.50</td>\n",
       "      <td>15682286</td>\n",
       "      <td>289.00</td>\n",
       "      <td>300.70</td>\n",
       "      <td>289.00</td>\n",
       "    </tr>\n",
       "    <tr>\n",
       "      <th>4</th>\n",
       "      <td>07/1/2000</td>\n",
       "      <td>294.35</td>\n",
       "      <td>19870977</td>\n",
       "      <td>295.00</td>\n",
       "      <td>317.90</td>\n",
       "      <td>293.00</td>\n",
       "    </tr>\n",
       "    <tr>\n",
       "      <th>...</th>\n",
       "      <td>...</td>\n",
       "      <td>...</td>\n",
       "      <td>...</td>\n",
       "      <td>...</td>\n",
       "      <td>...</td>\n",
       "      <td>...</td>\n",
       "    </tr>\n",
       "    <tr>\n",
       "      <th>5070</th>\n",
       "      <td>22/5/2020</td>\n",
       "      <td>1441.25</td>\n",
       "      <td>17458503</td>\n",
       "      <td>1451.80</td>\n",
       "      <td>1458.00</td>\n",
       "      <td>1426.50</td>\n",
       "    </tr>\n",
       "    <tr>\n",
       "      <th>5071</th>\n",
       "      <td>26/5/2020</td>\n",
       "      <td>1431.55</td>\n",
       "      <td>15330793</td>\n",
       "      <td>1448.15</td>\n",
       "      <td>1449.70</td>\n",
       "      <td>1416.30</td>\n",
       "    </tr>\n",
       "    <tr>\n",
       "      <th>5072</th>\n",
       "      <td>27/5/2020</td>\n",
       "      <td>1424.05</td>\n",
       "      <td>16460764</td>\n",
       "      <td>1431.00</td>\n",
       "      <td>1454.00</td>\n",
       "      <td>1412.00</td>\n",
       "    </tr>\n",
       "    <tr>\n",
       "      <th>5073</th>\n",
       "      <td>28/5/2020</td>\n",
       "      <td>1445.55</td>\n",
       "      <td>18519252</td>\n",
       "      <td>1455.00</td>\n",
       "      <td>1479.75</td>\n",
       "      <td>1449.00</td>\n",
       "    </tr>\n",
       "    <tr>\n",
       "      <th>5074</th>\n",
       "      <td>29/5/2020</td>\n",
       "      <td>1472.25</td>\n",
       "      <td>18471770</td>\n",
       "      <td>1468.00</td>\n",
       "      <td>1472.00</td>\n",
       "      <td>1452.65</td>\n",
       "    </tr>\n",
       "  </tbody>\n",
       "</table>\n",
       "<p>5075 rows × 6 columns</p>\n",
       "</div>"
      ],
      "text/plain": [
       "           Date  Close/Last    Volume     Open     High      Low\n",
       "0     03/1/2000      233.05   4456424   237.50   251.70   237.50\n",
       "1     04/1/2000      251.70   9487878   258.40   271.85   251.30\n",
       "2     05/1/2000      271.85  26833684   256.65   287.90   256.65\n",
       "3     06/1/2000      282.50  15682286   289.00   300.70   289.00\n",
       "4     07/1/2000      294.35  19870977   295.00   317.90   293.00\n",
       "...         ...         ...       ...      ...      ...      ...\n",
       "5070  22/5/2020     1441.25  17458503  1451.80  1458.00  1426.50\n",
       "5071  26/5/2020     1431.55  15330793  1448.15  1449.70  1416.30\n",
       "5072  27/5/2020     1424.05  16460764  1431.00  1454.00  1412.00\n",
       "5073  28/5/2020     1445.55  18519252  1455.00  1479.75  1449.00\n",
       "5074  29/5/2020     1472.25  18471770  1468.00  1472.00  1452.65\n",
       "\n",
       "[5075 rows x 6 columns]"
      ]
     },
     "execution_count": 2,
     "metadata": {},
     "output_type": "execute_result"
    }
   ],
   "source": [
    "#read the stock price data from a CSV file\n",
    "# df = pd.read_csv('RELIANCE.csv') ##Source File to be changed here\n",
    "# df\n",
    "# File paths\n",
    "dataset_path = \"/kaggle/input/reliance/RELIANCE.csv\"\n",
    "\n",
    "# Load CSV dataset into Pandas DataFrame\n",
    "df = pd.read_csv(dataset_path)\n",
    "df"
   ]
  },
  {
   "cell_type": "markdown",
   "id": "d0e4e051",
   "metadata": {
    "id": "mDbC1yoxyD_e",
    "papermill": {
     "duration": 0.01079,
     "end_time": "2025-01-16T08:05:52.136275",
     "exception": false,
     "start_time": "2025-01-16T08:05:52.125485",
     "status": "completed"
    },
    "tags": []
   },
   "source": [
    "### preprocessing data set to perform analysis"
   ]
  },
  {
   "cell_type": "code",
   "execution_count": 3,
   "id": "9d44e175",
   "metadata": {
    "execution": {
     "iopub.execute_input": "2025-01-16T08:05:52.157587Z",
     "iopub.status.busy": "2025-01-16T08:05:52.157176Z",
     "iopub.status.idle": "2025-01-16T08:05:52.164630Z",
     "shell.execute_reply": "2025-01-16T08:05:52.163183Z"
    },
    "id": "MTAONPyPyD_e",
    "outputId": "74d1d71a-272f-45bd-c8c2-0fd5964f836c",
    "papermill": {
     "duration": 0.020844,
     "end_time": "2025-01-16T08:05:52.167342",
     "exception": false,
     "start_time": "2025-01-16T08:05:52.146498",
     "status": "completed"
    },
    "tags": []
   },
   "outputs": [
    {
     "data": {
      "text/plain": [
       "(5075, 6)"
      ]
     },
     "execution_count": 3,
     "metadata": {},
     "output_type": "execute_result"
    }
   ],
   "source": [
    "df.shape"
   ]
  },
  {
   "cell_type": "code",
   "execution_count": 4,
   "id": "ddc55ab5",
   "metadata": {
    "execution": {
     "iopub.execute_input": "2025-01-16T08:05:52.188327Z",
     "iopub.status.busy": "2025-01-16T08:05:52.187331Z",
     "iopub.status.idle": "2025-01-16T08:05:52.202518Z",
     "shell.execute_reply": "2025-01-16T08:05:52.201315Z"
    },
    "papermill": {
     "duration": 0.027924,
     "end_time": "2025-01-16T08:05:52.204700",
     "exception": false,
     "start_time": "2025-01-16T08:05:52.176776",
     "status": "completed"
    },
    "tags": []
   },
   "outputs": [
    {
     "data": {
      "text/html": [
       "<div>\n",
       "<style scoped>\n",
       "    .dataframe tbody tr th:only-of-type {\n",
       "        vertical-align: middle;\n",
       "    }\n",
       "\n",
       "    .dataframe tbody tr th {\n",
       "        vertical-align: top;\n",
       "    }\n",
       "\n",
       "    .dataframe thead th {\n",
       "        text-align: right;\n",
       "    }\n",
       "</style>\n",
       "<table border=\"1\" class=\"dataframe\">\n",
       "  <thead>\n",
       "    <tr style=\"text-align: right;\">\n",
       "      <th></th>\n",
       "      <th>Date</th>\n",
       "      <th>Close/Last</th>\n",
       "      <th>Volume</th>\n",
       "      <th>Open</th>\n",
       "      <th>High</th>\n",
       "      <th>Low</th>\n",
       "    </tr>\n",
       "  </thead>\n",
       "  <tbody>\n",
       "    <tr>\n",
       "      <th>5065</th>\n",
       "      <td>15/5/2020</td>\n",
       "      <td>1435.95</td>\n",
       "      <td>28683432</td>\n",
       "      <td>1444.00</td>\n",
       "      <td>1466.70</td>\n",
       "      <td>1415.10</td>\n",
       "    </tr>\n",
       "    <tr>\n",
       "      <th>5066</th>\n",
       "      <td>18/5/2020</td>\n",
       "      <td>1459.40</td>\n",
       "      <td>28981620</td>\n",
       "      <td>1470.00</td>\n",
       "      <td>1482.00</td>\n",
       "      <td>1428.00</td>\n",
       "    </tr>\n",
       "    <tr>\n",
       "      <th>5067</th>\n",
       "      <td>19/5/2020</td>\n",
       "      <td>1440.75</td>\n",
       "      <td>19529216</td>\n",
       "      <td>1457.00</td>\n",
       "      <td>1461.70</td>\n",
       "      <td>1403.25</td>\n",
       "    </tr>\n",
       "    <tr>\n",
       "      <th>5068</th>\n",
       "      <td>20/5/2020</td>\n",
       "      <td>1408.90</td>\n",
       "      <td>25530692</td>\n",
       "      <td>1410.00</td>\n",
       "      <td>1446.85</td>\n",
       "      <td>1393.00</td>\n",
       "    </tr>\n",
       "    <tr>\n",
       "      <th>5069</th>\n",
       "      <td>21/5/2020</td>\n",
       "      <td>1433.70</td>\n",
       "      <td>18077196</td>\n",
       "      <td>1435.00</td>\n",
       "      <td>1461.45</td>\n",
       "      <td>1425.00</td>\n",
       "    </tr>\n",
       "    <tr>\n",
       "      <th>5070</th>\n",
       "      <td>22/5/2020</td>\n",
       "      <td>1441.25</td>\n",
       "      <td>17458503</td>\n",
       "      <td>1451.80</td>\n",
       "      <td>1458.00</td>\n",
       "      <td>1426.50</td>\n",
       "    </tr>\n",
       "    <tr>\n",
       "      <th>5071</th>\n",
       "      <td>26/5/2020</td>\n",
       "      <td>1431.55</td>\n",
       "      <td>15330793</td>\n",
       "      <td>1448.15</td>\n",
       "      <td>1449.70</td>\n",
       "      <td>1416.30</td>\n",
       "    </tr>\n",
       "    <tr>\n",
       "      <th>5072</th>\n",
       "      <td>27/5/2020</td>\n",
       "      <td>1424.05</td>\n",
       "      <td>16460764</td>\n",
       "      <td>1431.00</td>\n",
       "      <td>1454.00</td>\n",
       "      <td>1412.00</td>\n",
       "    </tr>\n",
       "    <tr>\n",
       "      <th>5073</th>\n",
       "      <td>28/5/2020</td>\n",
       "      <td>1445.55</td>\n",
       "      <td>18519252</td>\n",
       "      <td>1455.00</td>\n",
       "      <td>1479.75</td>\n",
       "      <td>1449.00</td>\n",
       "    </tr>\n",
       "    <tr>\n",
       "      <th>5074</th>\n",
       "      <td>29/5/2020</td>\n",
       "      <td>1472.25</td>\n",
       "      <td>18471770</td>\n",
       "      <td>1468.00</td>\n",
       "      <td>1472.00</td>\n",
       "      <td>1452.65</td>\n",
       "    </tr>\n",
       "  </tbody>\n",
       "</table>\n",
       "</div>"
      ],
      "text/plain": [
       "           Date  Close/Last    Volume     Open     High      Low\n",
       "5065  15/5/2020     1435.95  28683432  1444.00  1466.70  1415.10\n",
       "5066  18/5/2020     1459.40  28981620  1470.00  1482.00  1428.00\n",
       "5067  19/5/2020     1440.75  19529216  1457.00  1461.70  1403.25\n",
       "5068  20/5/2020     1408.90  25530692  1410.00  1446.85  1393.00\n",
       "5069  21/5/2020     1433.70  18077196  1435.00  1461.45  1425.00\n",
       "5070  22/5/2020     1441.25  17458503  1451.80  1458.00  1426.50\n",
       "5071  26/5/2020     1431.55  15330793  1448.15  1449.70  1416.30\n",
       "5072  27/5/2020     1424.05  16460764  1431.00  1454.00  1412.00\n",
       "5073  28/5/2020     1445.55  18519252  1455.00  1479.75  1449.00\n",
       "5074  29/5/2020     1472.25  18471770  1468.00  1472.00  1452.65"
      ]
     },
     "execution_count": 4,
     "metadata": {},
     "output_type": "execute_result"
    }
   ],
   "source": [
    "df.tail(10)"
   ]
  },
  {
   "cell_type": "code",
   "execution_count": 5,
   "id": "9f2c3cb3",
   "metadata": {
    "execution": {
     "iopub.execute_input": "2025-01-16T08:05:52.226797Z",
     "iopub.status.busy": "2025-01-16T08:05:52.226371Z",
     "iopub.status.idle": "2025-01-16T08:05:52.255766Z",
     "shell.execute_reply": "2025-01-16T08:05:52.253714Z"
    },
    "id": "IpPAKBduyD_f",
    "outputId": "501cfd37-4afc-4ddb-b36c-3f22a8bac665",
    "papermill": {
     "duration": 0.044584,
     "end_time": "2025-01-16T08:05:52.258845",
     "exception": false,
     "start_time": "2025-01-16T08:05:52.214261",
     "status": "completed"
    },
    "tags": []
   },
   "outputs": [
    {
     "name": "stdout",
     "output_type": "stream",
     "text": [
      "<class 'pandas.core.frame.DataFrame'>\n",
      "RangeIndex: 5075 entries, 0 to 5074\n",
      "Data columns (total 6 columns):\n",
      " #   Column      Non-Null Count  Dtype  \n",
      "---  ------      --------------  -----  \n",
      " 0   Date        5075 non-null   object \n",
      " 1   Close/Last  5075 non-null   float64\n",
      " 2   Volume      5075 non-null   int64  \n",
      " 3   Open        5075 non-null   float64\n",
      " 4   High        5075 non-null   float64\n",
      " 5   Low         5075 non-null   float64\n",
      "dtypes: float64(4), int64(1), object(1)\n",
      "memory usage: 238.0+ KB\n"
     ]
    }
   ],
   "source": [
    "df.info()"
   ]
  },
  {
   "cell_type": "code",
   "execution_count": 6,
   "id": "e9bf15d9",
   "metadata": {
    "execution": {
     "iopub.execute_input": "2025-01-16T08:05:52.282235Z",
     "iopub.status.busy": "2025-01-16T08:05:52.281721Z",
     "iopub.status.idle": "2025-01-16T08:05:52.294148Z",
     "shell.execute_reply": "2025-01-16T08:05:52.292584Z"
    },
    "id": "Z6DNGXWYyD_f",
    "outputId": "691f7695-209e-455e-d578-010c5d2881eb",
    "papermill": {
     "duration": 0.027999,
     "end_time": "2025-01-16T08:05:52.297262",
     "exception": false,
     "start_time": "2025-01-16T08:05:52.269263",
     "status": "completed"
    },
    "tags": []
   },
   "outputs": [
    {
     "data": {
      "text/plain": [
       "0    233.05\n",
       "1    251.70\n",
       "2    271.85\n",
       "3    282.50\n",
       "4    294.35\n",
       "Name: Close/Last, dtype: float64"
      ]
     },
     "execution_count": 6,
     "metadata": {},
     "output_type": "execute_result"
    }
   ],
   "source": [
    "df1 = df.iloc[:,1] # select the second column (assumed to be stock prices)\n",
    "df1.head()"
   ]
  },
  {
   "cell_type": "markdown",
   "id": "8ba188a9",
   "metadata": {
    "papermill": {
     "duration": 0.009863,
     "end_time": "2025-01-16T08:05:52.318549",
     "exception": false,
     "start_time": "2025-01-16T08:05:52.308686",
     "status": "completed"
    },
    "tags": []
   },
   "source": [
    " **Data Selection and Cleaning**"
   ]
  },
  {
   "cell_type": "code",
   "execution_count": 7,
   "id": "cc9f1049",
   "metadata": {
    "execution": {
     "iopub.execute_input": "2025-01-16T08:05:52.343164Z",
     "iopub.status.busy": "2025-01-16T08:05:52.342775Z",
     "iopub.status.idle": "2025-01-16T08:05:52.354501Z",
     "shell.execute_reply": "2025-01-16T08:05:52.352945Z"
    },
    "id": "kZMVzwugyD_g",
    "outputId": "a23e6726-36ed-4444-f72b-e2e3a92103a5",
    "papermill": {
     "duration": 0.0279,
     "end_time": "2025-01-16T08:05:52.357780",
     "exception": false,
     "start_time": "2025-01-16T08:05:52.329880",
     "status": "completed"
    },
    "tags": []
   },
   "outputs": [
    {
     "data": {
      "text/plain": [
       "0    233.05\n",
       "1    251.70\n",
       "2    271.85\n",
       "3    282.50\n",
       "4    294.35\n",
       "Name: Close/Last, dtype: float64"
      ]
     },
     "execution_count": 7,
     "metadata": {},
     "output_type": "execute_result"
    }
   ],
   "source": [
    "#Selects the stock price column\n",
    "df1 = df1.replace('[\\$,]', '', regex=True).astype(float)\n",
    "\n",
    "#removes unwanted symbols(e.g, $) using regex and convert it to a numeric format\n",
    "df1.head()"
   ]
  },
  {
   "cell_type": "markdown",
   "id": "d7e01cc5",
   "metadata": {
    "papermill": {
     "duration": 0.0097,
     "end_time": "2025-01-16T08:05:52.378074",
     "exception": false,
     "start_time": "2025-01-16T08:05:52.368374",
     "status": "completed"
    },
    "tags": []
   },
   "source": [
    "**Visualizing the Data**"
   ]
  },
  {
   "cell_type": "code",
   "execution_count": 8,
   "id": "279e08df",
   "metadata": {
    "execution": {
     "iopub.execute_input": "2025-01-16T08:05:52.400412Z",
     "iopub.status.busy": "2025-01-16T08:05:52.399255Z",
     "iopub.status.idle": "2025-01-16T08:05:52.678596Z",
     "shell.execute_reply": "2025-01-16T08:05:52.677505Z"
    },
    "id": "X6_y7TzlyD_h",
    "outputId": "3622a9ab-48b8-4ac6-a780-3b3f4640162d",
    "papermill": {
     "duration": 0.293322,
     "end_time": "2025-01-16T08:05:52.681075",
     "exception": false,
     "start_time": "2025-01-16T08:05:52.387753",
     "status": "completed"
    },
    "tags": []
   },
   "outputs": [
    {
     "data": {
      "text/plain": [
       "Text(0, 0.5, 'stock price')"
      ]
     },
     "execution_count": 8,
     "metadata": {},
     "output_type": "execute_result"
    },
    {
     "data": {
      "image/png": "[encoded data removed]",
      "text/plain": [
       "<Figure size 640x480 with 1 Axes>"
      ]
     },
     "metadata": {},
     "output_type": "display_data"
    }
   ],
   "source": [
    "#Plots the stock price data over time.\n",
    "plt.plot(df1)\n",
    "plt.xlabel(\"data-point ie time\")\n",
    "plt.ylabel(\"stock price\")"
   ]
  },
  {
   "cell_type": "markdown",
   "id": "0370f849",
   "metadata": {
    "papermill": {
     "duration": 0.010082,
     "end_time": "2025-01-16T08:05:52.704915",
     "exception": false,
     "start_time": "2025-01-16T08:05:52.694833",
     "status": "completed"
    },
    "tags": []
   },
   "source": [
    "**Normalizing the Data**"
   ]
  },
  {
   "cell_type": "code",
   "execution_count": 9,
   "id": "38fbe0a9",
   "metadata": {
    "execution": {
     "iopub.execute_input": "2025-01-16T08:05:52.726872Z",
     "iopub.status.busy": "2025-01-16T08:05:52.726483Z",
     "iopub.status.idle": "2025-01-16T08:05:54.315139Z",
     "shell.execute_reply": "2025-01-16T08:05:54.313853Z"
    },
    "id": "6G0fL1EMyD_h",
    "papermill": {
     "duration": 1.602792,
     "end_time": "2025-01-16T08:05:54.317829",
     "exception": false,
     "start_time": "2025-01-16T08:05:52.715037",
     "status": "completed"
    },
    "tags": []
   },
   "outputs": [],
   "source": [
    "#Scales stock prices into the range[0,1] for compatibility with LSTM\n",
    "from sklearn.preprocessing import MinMaxScaler\n",
    "scaler = MinMaxScaler(feature_range = (0,1))"
   ]
  },
  {
   "cell_type": "code",
   "execution_count": 10,
   "id": "efa02cbb",
   "metadata": {
    "execution": {
     "iopub.execute_input": "2025-01-16T08:05:54.341709Z",
     "iopub.status.busy": "2025-01-16T08:05:54.341156Z",
     "iopub.status.idle": "2025-01-16T08:05:54.348246Z",
     "shell.execute_reply": "2025-01-16T08:05:54.347067Z"
    },
    "id": "mVfdwF0ayD_i",
    "outputId": "b3dc192e-2509-4905-d681-5a43aed96e40",
    "papermill": {
     "duration": 0.02174,
     "end_time": "2025-01-16T08:05:54.350534",
     "exception": false,
     "start_time": "2025-01-16T08:05:54.328794",
     "status": "completed"
    },
    "tags": []
   },
   "outputs": [
    {
     "data": {
      "text/plain": [
       "(5075,)"
      ]
     },
     "execution_count": 10,
     "metadata": {},
     "output_type": "execute_result"
    }
   ],
   "source": [
    "df1.shape"
   ]
  },
  {
   "cell_type": "code",
   "execution_count": 11,
   "id": "0139d57f",
   "metadata": {
    "execution": {
     "iopub.execute_input": "2025-01-16T08:05:54.375003Z",
     "iopub.status.busy": "2025-01-16T08:05:54.374495Z",
     "iopub.status.idle": "2025-01-16T08:05:54.381328Z",
     "shell.execute_reply": "2025-01-16T08:05:54.380184Z"
    },
    "id": "hVkbLtUiyD_i",
    "papermill": {
     "duration": 0.022445,
     "end_time": "2025-01-16T08:05:54.383565",
     "exception": false,
     "start_time": "2025-01-16T08:05:54.361120",
     "status": "completed"
    },
    "tags": []
   },
   "outputs": [],
   "source": [
    "df1 = scaler.fit_transform(np.array(df1).reshape(-1,1))  #scale data between 0 and 1"
   ]
  },
  {
   "cell_type": "code",
   "execution_count": 12,
   "id": "627e716e",
   "metadata": {
    "execution": {
     "iopub.execute_input": "2025-01-16T08:05:54.406419Z",
     "iopub.status.busy": "2025-01-16T08:05:54.406068Z",
     "iopub.status.idle": "2025-01-16T08:05:54.412518Z",
     "shell.execute_reply": "2025-01-16T08:05:54.411334Z"
    },
    "id": "8Cr2lEiFyD_i",
    "outputId": "907e55ea-2732-4a2e-8c92-dc3a5a9ab6cb",
    "papermill": {
     "duration": 0.02026,
     "end_time": "2025-01-16T08:05:54.414632",
     "exception": false,
     "start_time": "2025-01-16T08:05:54.394372",
     "status": "completed"
    },
    "tags": []
   },
   "outputs": [
    {
     "name": "stdout",
     "output_type": "stream",
     "text": [
      "[[0.0098918 ]\n",
      " [0.01607211]\n",
      " [0.02274949]\n",
      " ...\n",
      " [0.40456978]\n",
      " [0.41169453]\n",
      " [0.42054248]]\n",
      "\n",
      " df1 present shape :  (5075, 1)\n"
     ]
    }
   ],
   "source": [
    "print(df1)\n",
    "print('\\n df1 present shape : ', df1.shape)"
   ]
  },
  {
   "cell_type": "markdown",
   "id": "41f61bb3",
   "metadata": {
    "id": "vr3yFMHlyD_j",
    "papermill": {
     "duration": 0.010485,
     "end_time": "2025-01-16T08:05:54.435740",
     "exception": false,
     "start_time": "2025-01-16T08:05:54.425255",
     "status": "completed"
    },
    "tags": []
   },
   "source": [
    "### splitting data (70/30)"
   ]
  },
  {
   "cell_type": "code",
   "execution_count": 13,
   "id": "b9b8f56c",
   "metadata": {
    "execution": {
     "iopub.execute_input": "2025-01-16T08:05:54.459905Z",
     "iopub.status.busy": "2025-01-16T08:05:54.459521Z",
     "iopub.status.idle": "2025-01-16T08:05:54.465312Z",
     "shell.execute_reply": "2025-01-16T08:05:54.464177Z"
    },
    "id": "61MREwh7yD_k",
    "outputId": "f185eebe-fb7a-4d33-e985-8f0853bce6f0",
    "papermill": {
     "duration": 0.020555,
     "end_time": "2025-01-16T08:05:54.467927",
     "exception": false,
     "start_time": "2025-01-16T08:05:54.447372",
     "status": "completed"
    },
    "tags": []
   },
   "outputs": [
    {
     "name": "stdout",
     "output_type": "stream",
     "text": [
      "Training Size :  3552\n",
      "Test Size :  1523\n"
     ]
    }
   ],
   "source": [
    "#Splits the data into trainning 70% and testing 30% subsets\n",
    "training_size = int(len(df1)*0.7)\n",
    "test_size = len(df1) - training_size\n",
    "print('Training Size : ',training_size)\n",
    "print('Test Size : ',test_size)"
   ]
  },
  {
   "cell_type": "code",
   "execution_count": 14,
   "id": "d512765d",
   "metadata": {
    "execution": {
     "iopub.execute_input": "2025-01-16T08:05:54.491423Z",
     "iopub.status.busy": "2025-01-16T08:05:54.490683Z",
     "iopub.status.idle": "2025-01-16T08:05:54.498157Z",
     "shell.execute_reply": "2025-01-16T08:05:54.497013Z"
    },
    "id": "TrMM_ubeyD_k",
    "outputId": "9e98000c-90d6-47f2-893c-9085a501fb7d",
    "papermill": {
     "duration": 0.021674,
     "end_time": "2025-01-16T08:05:54.500310",
     "exception": false,
     "start_time": "2025-01-16T08:05:54.478636",
     "status": "completed"
    },
    "tags": []
   },
   "outputs": [
    {
     "name": "stdout",
     "output_type": "stream",
     "text": [
      "Training Data Shape :  (3552, 1)\n",
      "Test Data Shape:  (1523, 1)\n"
     ]
    }
   ],
   "source": [
    "train_data, test_data = df1[0:training_size,:],df1[training_size:len(df1),:]\n",
    "print('Training Data Shape : ', train_data.shape)\n",
    "print('Test Data Shape: ', test_data.shape)"
   ]
  },
  {
   "cell_type": "markdown",
   "id": "4101da6c",
   "metadata": {
    "id": "rlu1ce0eyD_k",
    "papermill": {
     "duration": 0.01045,
     "end_time": "2025-01-16T08:05:54.521595",
     "exception": false,
     "start_time": "2025-01-16T08:05:54.511145",
     "status": "completed"
    },
    "tags": []
   },
   "source": [
    "### | windowing data set |"
   ]
  },
  {
   "cell_type": "code",
   "execution_count": 15,
   "id": "8602eaaa",
   "metadata": {
    "execution": {
     "iopub.execute_input": "2025-01-16T08:05:54.544537Z",
     "iopub.status.busy": "2025-01-16T08:05:54.544134Z",
     "iopub.status.idle": "2025-01-16T08:05:54.550516Z",
     "shell.execute_reply": "2025-01-16T08:05:54.549290Z"
    },
    "id": "kWgAvvFDyD_l",
    "papermill": {
     "duration": 0.020808,
     "end_time": "2025-01-16T08:05:54.552931",
     "exception": false,
     "start_time": "2025-01-16T08:05:54.532123",
     "status": "completed"
    },
    "tags": []
   },
   "outputs": [],
   "source": [
    "#sliding window: Creates sequences of window lenght for input(X) and the next value as output(y)\n",
    "\n",
    "def create_dataset(dataset, window=1):\n",
    "    dataX, dataY= [], []\n",
    "    for i in range(len(dataset)-window-1):\n",
    "        a = dataset[i:(i+window),0]\n",
    "        dataX.append(a)\n",
    "        dataY.append(dataset[i+window,0])\n",
    "    return np.array(dataX), np.array(dataY)"
   ]
  },
  {
   "cell_type": "markdown",
   "id": "33426096",
   "metadata": {
    "papermill": {
     "duration": 0.010519,
     "end_time": "2025-01-16T08:05:54.574261",
     "exception": false,
     "start_time": "2025-01-16T08:05:54.563742",
     "status": "completed"
    },
    "tags": []
   },
   "source": [
    "**Reshaping Data for LSTM**"
   ]
  },
  {
   "cell_type": "code",
   "execution_count": 16,
   "id": "facadc8d",
   "metadata": {
    "execution": {
     "iopub.execute_input": "2025-01-16T08:05:54.597938Z",
     "iopub.status.busy": "2025-01-16T08:05:54.597542Z",
     "iopub.status.idle": "2025-01-16T08:05:54.614419Z",
     "shell.execute_reply": "2025-01-16T08:05:54.613255Z"
    },
    "id": "25Ckq_aPyD_l",
    "papermill": {
     "duration": 0.031765,
     "end_time": "2025-01-16T08:05:54.616981",
     "exception": false,
     "start_time": "2025-01-16T08:05:54.585216",
     "status": "completed"
    },
    "tags": []
   },
   "outputs": [],
   "source": [
    "#Reshapes the data to 3D(samples,time_steps,features) required for LSTM\n",
    "\n",
    "window = 100 #size of sliding window means create sequences of 100 timsteps for each input\n",
    "X_train, y_train = create_dataset(train_data, window=100)\n",
    "X_test, y_test = create_dataset(test_data, window=100)"
   ]
  },
  {
   "cell_type": "code",
   "execution_count": 17,
   "id": "ed476bdb",
   "metadata": {
    "execution": {
     "iopub.execute_input": "2025-01-16T08:05:54.641220Z",
     "iopub.status.busy": "2025-01-16T08:05:54.640861Z",
     "iopub.status.idle": "2025-01-16T08:05:54.647195Z",
     "shell.execute_reply": "2025-01-16T08:05:54.645849Z"
    },
    "id": "WnZqKZxCyD_l",
    "outputId": "33366310-24b7-4605-e4b0-b104c94edad7",
    "papermill": {
     "duration": 0.022003,
     "end_time": "2025-01-16T08:05:54.649791",
     "exception": false,
     "start_time": "2025-01-16T08:05:54.627788",
     "status": "completed"
    },
    "tags": []
   },
   "outputs": [
    {
     "name": "stdout",
     "output_type": "stream",
     "text": [
      "(3451, 100) (3451,)\n",
      "(1422, 100) (1422,)\n"
     ]
    }
   ],
   "source": [
    "print(X_train.shape, y_train.shape)\n",
    "print(X_test.shape, y_test.shape)"
   ]
  },
  {
   "cell_type": "code",
   "execution_count": 18,
   "id": "c33c4247",
   "metadata": {
    "execution": {
     "iopub.execute_input": "2025-01-16T08:05:54.674943Z",
     "iopub.status.busy": "2025-01-16T08:05:54.674564Z",
     "iopub.status.idle": "2025-01-16T08:05:54.680518Z",
     "shell.execute_reply": "2025-01-16T08:05:54.679048Z"
    },
    "id": "jFvc6VijyD_m",
    "papermill": {
     "duration": 0.021442,
     "end_time": "2025-01-16T08:05:54.682993",
     "exception": false,
     "start_time": "2025-01-16T08:05:54.661551",
     "status": "completed"
    },
    "tags": []
   },
   "outputs": [],
   "source": [
    "X_train = X_train.reshape(X_train.shape[0],X_train.shape[1],1)\n",
    "X_test = X_test.reshape(X_test.shape[0],X_test.shape[1],1)"
   ]
  },
  {
   "cell_type": "markdown",
   "id": "3b508d3a",
   "metadata": {
    "id": "RzbDOTv6yD_m",
    "papermill": {
     "duration": 0.010467,
     "end_time": "2025-01-16T08:05:54.704261",
     "exception": false,
     "start_time": "2025-01-16T08:05:54.693794",
     "status": "completed"
    },
    "tags": []
   },
   "source": [
    "### lstm coding"
   ]
  },
  {
   "cell_type": "code",
   "execution_count": 19,
   "id": "1463a4d7",
   "metadata": {
    "execution": {
     "iopub.execute_input": "2025-01-16T08:05:54.727264Z",
     "iopub.status.busy": "2025-01-16T08:05:54.726883Z",
     "iopub.status.idle": "2025-01-16T08:06:10.413277Z",
     "shell.execute_reply": "2025-01-16T08:06:10.412096Z"
    },
    "id": "WBlqdvdEyD_m",
    "papermill": {
     "duration": 15.700892,
     "end_time": "2025-01-16T08:06:10.415965",
     "exception": false,
     "start_time": "2025-01-16T08:05:54.715073",
     "status": "completed"
    },
    "tags": []
   },
   "outputs": [],
   "source": [
    "#Building LSTM Model\n",
    "\n",
    "from tensorflow.keras.models import Sequential\n",
    "from tensorflow.keras.layers import Dense\n",
    "from tensorflow.keras.layers import LSTM"
   ]
  },
  {
   "cell_type": "code",
   "execution_count": 20,
   "id": "a5f8bcc7",
   "metadata": {
    "execution": {
     "iopub.execute_input": "2025-01-16T08:06:10.440208Z",
     "iopub.status.busy": "2025-01-16T08:06:10.439588Z",
     "iopub.status.idle": "2025-01-16T08:06:10.607271Z",
     "shell.execute_reply": "2025-01-16T08:06:10.606174Z"
    },
    "id": "urAYlKYSyD_m",
    "papermill": {
     "duration": 0.182522,
     "end_time": "2025-01-16T08:06:10.609538",
     "exception": false,
     "start_time": "2025-01-16T08:06:10.427016",
     "status": "completed"
    },
    "tags": []
   },
   "outputs": [
    {
     "name": "stderr",
     "output_type": "stream",
     "text": [
      "/opt/conda/lib/python3.10/site-packages/keras/src/layers/rnn/rnn.py:204: UserWarning: Do not pass an `input_shape`/`input_dim` argument to a layer. When using Sequential models, prefer using an `Input(shape)` object as the first layer in the model instead.\n",
      "  super().__init__(**kwargs)\n"
     ]
    }
   ],
   "source": [
    "#Construct a sequential model with:\n",
    "# 3 LSTM layers(50 neurons each)\n",
    "#A dense layer for prediction\n",
    "#loss function: Mean Squared Error\n",
    "#Optimizer:Adam\n",
    "\n",
    "model = Sequential()\n",
    "model.add(LSTM(50, return_sequences = True, input_shape = (100,1))) #First LSTM layer\n",
    "model.add(LSTM(50, return_sequences = True)) # Second LSTM layer\n",
    "model.add(LSTM(50)) # Third LSTM layer\n",
    "model.add(Dense(1)) # Fully connected output layer\n",
    "\n",
    "model.compile(loss='mean_squared_error', optimizer = 'adam') # Compile model"
   ]
  },
  {
   "cell_type": "code",
   "execution_count": 21,
   "id": "51173328",
   "metadata": {
    "execution": {
     "iopub.execute_input": "2025-01-16T08:06:10.633968Z",
     "iopub.status.busy": "2025-01-16T08:06:10.633538Z",
     "iopub.status.idle": "2025-01-16T08:06:10.655998Z",
     "shell.execute_reply": "2025-01-16T08:06:10.654737Z"
    },
    "id": "MbSbU2rpyD_n",
    "outputId": "4c6b7678-0392-4371-a08a-7511dd131751",
    "papermill": {
     "duration": 0.037709,
     "end_time": "2025-01-16T08:06:10.658502",
     "exception": false,
     "start_time": "2025-01-16T08:06:10.620793",
     "status": "completed"
    },
    "tags": []
   },
   "outputs": [
    {
     "data": {
      "text/html": [
       "<pre style=\"white-space:pre;overflow-x:auto;line-height:normal;font-family:Menlo,'DejaVu Sans Mono',consolas,'Courier New',monospace\"><span style=\"font-weight: bold\">Model: \"sequential\"</span>\n",
       "</pre>\n"
      ],
      "text/plain": [
       "\u001b[1mModel: \"sequential\"\u001b[0m\n"
      ]
     },
     "metadata": {},
     "output_type": "display_data"
    },
    {
     "data": {
      "text/html": [
       "<pre style=\"white-space:pre;overflow-x:auto;line-height:normal;font-family:Menlo,'DejaVu Sans Mono',consolas,'Courier New',monospace\">┏━━━━━━━━━━━━━━━━━━━━━━━━━━━━━━━━━┳━━━━━━━━━━━━━━━━━━━━━━━━┳━━━━━━━━━━━━━━━┓\n",
       "┃<span style=\"font-weight: bold\"> Layer (type)                    </span>┃<span style=\"font-weight: bold\"> Output Shape           </span>┃<span style=\"font-weight: bold\">       Param # </span>┃\n",
       "┡━━━━━━━━━━━━━━━━━━━━━━━━━━━━━━━━━╇━━━━━━━━━━━━━━━━━━━━━━━━╇━━━━━━━━━━━━━━━┩\n",
       "│ lstm (<span style=\"color: #0087ff; text-decoration-color: #0087ff\">LSTM</span>)                     │ (<span style=\"color: #00d7ff; text-decoration-color: #00d7ff\">None</span>, <span style=\"color: #00af00; text-decoration-color: #00af00\">100</span>, <span style=\"color: #00af00; text-decoration-color: #00af00\">50</span>)        │        <span style=\"color: #00af00; text-decoration-color: #00af00\">10,400</span> │\n",
       "├─────────────────────────────────┼────────────────────────┼───────────────┤\n",
       "│ lstm_1 (<span style=\"color: #0087ff; text-decoration-color: #0087ff\">LSTM</span>)                   │ (<span style=\"color: #00d7ff; text-decoration-color: #00d7ff\">None</span>, <span style=\"color: #00af00; text-decoration-color: #00af00\">100</span>, <span style=\"color: #00af00; text-decoration-color: #00af00\">50</span>)        │        <span style=\"color: #00af00; text-decoration-color: #00af00\">20,200</span> │\n",
       "├─────────────────────────────────┼────────────────────────┼───────────────┤\n",
       "│ lstm_2 (<span style=\"color: #0087ff; text-decoration-color: #0087ff\">LSTM</span>)                   │ (<span style=\"color: #00d7ff; text-decoration-color: #00d7ff\">None</span>, <span style=\"color: #00af00; text-decoration-color: #00af00\">50</span>)             │        <span style=\"color: #00af00; text-decoration-color: #00af00\">20,200</span> │\n",
       "├─────────────────────────────────┼────────────────────────┼───────────────┤\n",
       "│ dense (<span style=\"color: #0087ff; text-decoration-color: #0087ff\">Dense</span>)                   │ (<span style=\"color: #00d7ff; text-decoration-color: #00d7ff\">None</span>, <span style=\"color: #00af00; text-decoration-color: #00af00\">1</span>)              │            <span style=\"color: #00af00; text-decoration-color: #00af00\">51</span> │\n",
       "└─────────────────────────────────┴────────────────────────┴───────────────┘\n",
       "</pre>\n"
      ],
      "text/plain": [
       "┏━━━━━━━━━━━━━━━━━━━━━━━━━━━━━━━━━┳━━━━━━━━━━━━━━━━━━━━━━━━┳━━━━━━━━━━━━━━━┓\n",
       "┃\u001b[1m \u001b[0m\u001b[1mLayer (type)                   \u001b[0m\u001b[1m \u001b[0m┃\u001b[1m \u001b[0m\u001b[1mOutput Shape          \u001b[0m\u001b[1m \u001b[0m┃\u001b[1m \u001b[0m\u001b[1m      Param #\u001b[0m\u001b[1m \u001b[0m┃\n",
       "┡━━━━━━━━━━━━━━━━━━━━━━━━━━━━━━━━━╇━━━━━━━━━━━━━━━━━━━━━━━━╇━━━━━━━━━━━━━━━┩\n",
       "│ lstm (\u001b[38;5;33mLSTM\u001b[0m)                     │ (\u001b[38;5;45mNone\u001b[0m, \u001b[38;5;34m100\u001b[0m, \u001b[38;5;34m50\u001b[0m)        │        \u001b[38;5;34m10,400\u001b[0m │\n",
       "├─────────────────────────────────┼────────────────────────┼───────────────┤\n",
       "│ lstm_1 (\u001b[38;5;33mLSTM\u001b[0m)                   │ (\u001b[38;5;45mNone\u001b[0m, \u001b[38;5;34m100\u001b[0m, \u001b[38;5;34m50\u001b[0m)        │        \u001b[38;5;34m20,200\u001b[0m │\n",
       "├─────────────────────────────────┼────────────────────────┼───────────────┤\n",
       "│ lstm_2 (\u001b[38;5;33mLSTM\u001b[0m)                   │ (\u001b[38;5;45mNone\u001b[0m, \u001b[38;5;34m50\u001b[0m)             │        \u001b[38;5;34m20,200\u001b[0m │\n",
       "├─────────────────────────────────┼────────────────────────┼───────────────┤\n",
       "│ dense (\u001b[38;5;33mDense\u001b[0m)                   │ (\u001b[38;5;45mNone\u001b[0m, \u001b[38;5;34m1\u001b[0m)              │            \u001b[38;5;34m51\u001b[0m │\n",
       "└─────────────────────────────────┴────────────────────────┴───────────────┘\n"
      ]
     },
     "metadata": {},
     "output_type": "display_data"
    },
    {
     "data": {
      "text/html": [
       "<pre style=\"white-space:pre;overflow-x:auto;line-height:normal;font-family:Menlo,'DejaVu Sans Mono',consolas,'Courier New',monospace\"><span style=\"font-weight: bold\"> Total params: </span><span style=\"color: #00af00; text-decoration-color: #00af00\">50,851</span> (198.64 KB)\n",
       "</pre>\n"
      ],
      "text/plain": [
       "\u001b[1m Total params: \u001b[0m\u001b[38;5;34m50,851\u001b[0m (198.64 KB)\n"
      ]
     },
     "metadata": {},
     "output_type": "display_data"
    },
    {
     "data": {
      "text/html": [
       "<pre style=\"white-space:pre;overflow-x:auto;line-height:normal;font-family:Menlo,'DejaVu Sans Mono',consolas,'Courier New',monospace\"><span style=\"font-weight: bold\"> Trainable params: </span><span style=\"color: #00af00; text-decoration-color: #00af00\">50,851</span> (198.64 KB)\n",
       "</pre>\n"
      ],
      "text/plain": [
       "\u001b[1m Trainable params: \u001b[0m\u001b[38;5;34m50,851\u001b[0m (198.64 KB)\n"
      ]
     },
     "metadata": {},
     "output_type": "display_data"
    },
    {
     "data": {
      "text/html": [
       "<pre style=\"white-space:pre;overflow-x:auto;line-height:normal;font-family:Menlo,'DejaVu Sans Mono',consolas,'Courier New',monospace\"><span style=\"font-weight: bold\"> Non-trainable params: </span><span style=\"color: #00af00; text-decoration-color: #00af00\">0</span> (0.00 B)\n",
       "</pre>\n"
      ],
      "text/plain": [
       "\u001b[1m Non-trainable params: \u001b[0m\u001b[38;5;34m0\u001b[0m (0.00 B)\n"
      ]
     },
     "metadata": {},
     "output_type": "display_data"
    }
   ],
   "source": [
    "model.summary()"
   ]
  },
  {
   "cell_type": "markdown",
   "id": "f4a82ede",
   "metadata": {
    "id": "pC7FFrvgyD_n",
    "papermill": {
     "duration": 0.011154,
     "end_time": "2025-01-16T08:06:10.681767",
     "exception": false,
     "start_time": "2025-01-16T08:06:10.670613",
     "status": "completed"
    },
    "tags": []
   },
   "source": [
    "### fitting data to model"
   ]
  },
  {
   "cell_type": "code",
   "execution_count": 22,
   "id": "ad4b8b0f",
   "metadata": {
    "execution": {
     "iopub.execute_input": "2025-01-16T08:06:10.706750Z",
     "iopub.status.busy": "2025-01-16T08:06:10.706348Z",
     "iopub.status.idle": "2025-01-16T08:11:59.398202Z",
     "shell.execute_reply": "2025-01-16T08:11:59.397196Z"
    },
    "id": "pE5UE4LuyD_n",
    "outputId": "87978c7b-eb51-4b95-a8cf-bd12c18e62fc",
    "papermill": {
     "duration": 348.706835,
     "end_time": "2025-01-16T08:11:59.400386",
     "exception": false,
     "start_time": "2025-01-16T08:06:10.693551",
     "status": "completed"
    },
    "tags": []
   },
   "outputs": [
    {
     "name": "stdout",
     "output_type": "stream",
     "text": [
      "Epoch 1/25\n",
      "\u001b[1m116/116\u001b[0m \u001b[32m━━━━━━━━━━━━━━━━━━━━\u001b[0m\u001b[37m\u001b[0m \u001b[1m20s\u001b[0m 137ms/step - loss: 0.0129 - val_loss: 8.8910e-04\n",
      "Epoch 2/25\n",
      "\u001b[1m116/116\u001b[0m \u001b[32m━━━━━━━━━━━━━━━━━━━━\u001b[0m\u001b[37m\u001b[0m \u001b[1m16s\u001b[0m 135ms/step - loss: 9.5551e-04 - val_loss: 0.0011\n",
      "Epoch 3/25\n",
      "\u001b[1m116/116\u001b[0m \u001b[32m━━━━━━━━━━━━━━━━━━━━\u001b[0m\u001b[37m\u001b[0m \u001b[1m15s\u001b[0m 133ms/step - loss: 9.9424e-04 - val_loss: 6.6947e-04\n",
      "Epoch 4/25\n",
      "\u001b[1m116/116\u001b[0m \u001b[32m━━━━━━━━━━━━━━━━━━━━\u001b[0m\u001b[37m\u001b[0m \u001b[1m13s\u001b[0m 113ms/step - loss: 7.1287e-04 - val_loss: 4.9790e-04\n",
      "Epoch 5/25\n",
      "\u001b[1m116/116\u001b[0m \u001b[32m━━━━━━━━━━━━━━━━━━━━\u001b[0m\u001b[37m\u001b[0m \u001b[1m13s\u001b[0m 110ms/step - loss: 5.5478e-04 - val_loss: 0.0010\n",
      "Epoch 6/25\n",
      "\u001b[1m116/116\u001b[0m \u001b[32m━━━━━━━━━━━━━━━━━━━━\u001b[0m\u001b[37m\u001b[0m \u001b[1m13s\u001b[0m 114ms/step - loss: 9.9951e-04 - val_loss: 3.9953e-04\n",
      "Epoch 7/25\n",
      "\u001b[1m116/116\u001b[0m \u001b[32m━━━━━━━━━━━━━━━━━━━━\u001b[0m\u001b[37m\u001b[0m \u001b[1m14s\u001b[0m 117ms/step - loss: 5.6538e-04 - val_loss: 3.9358e-04\n",
      "Epoch 8/25\n",
      "\u001b[1m116/116\u001b[0m \u001b[32m━━━━━━━━━━━━━━━━━━━━\u001b[0m\u001b[37m\u001b[0m \u001b[1m13s\u001b[0m 111ms/step - loss: 4.6964e-04 - val_loss: 3.6660e-04\n",
      "Epoch 9/25\n",
      "\u001b[1m116/116\u001b[0m \u001b[32m━━━━━━━━━━━━━━━━━━━━\u001b[0m\u001b[37m\u001b[0m \u001b[1m13s\u001b[0m 112ms/step - loss: 6.1414e-04 - val_loss: 3.1979e-04\n",
      "Epoch 10/25\n",
      "\u001b[1m116/116\u001b[0m \u001b[32m━━━━━━━━━━━━━━━━━━━━\u001b[0m\u001b[37m\u001b[0m \u001b[1m13s\u001b[0m 108ms/step - loss: 3.3932e-04 - val_loss: 3.9942e-04\n",
      "Epoch 11/25\n",
      "\u001b[1m116/116\u001b[0m \u001b[32m━━━━━━━━━━━━━━━━━━━━\u001b[0m\u001b[37m\u001b[0m \u001b[1m13s\u001b[0m 111ms/step - loss: 3.9975e-04 - val_loss: 5.2222e-04\n",
      "Epoch 12/25\n",
      "\u001b[1m116/116\u001b[0m \u001b[32m━━━━━━━━━━━━━━━━━━━━\u001b[0m\u001b[37m\u001b[0m \u001b[1m13s\u001b[0m 114ms/step - loss: 5.8353e-04 - val_loss: 2.6876e-04\n",
      "Epoch 13/25\n",
      "\u001b[1m116/116\u001b[0m \u001b[32m━━━━━━━━━━━━━━━━━━━━\u001b[0m\u001b[37m\u001b[0m \u001b[1m13s\u001b[0m 112ms/step - loss: 3.4509e-04 - val_loss: 2.8062e-04\n",
      "Epoch 14/25\n",
      "\u001b[1m116/116\u001b[0m \u001b[32m━━━━━━━━━━━━━━━━━━━━\u001b[0m\u001b[37m\u001b[0m \u001b[1m14s\u001b[0m 122ms/step - loss: 2.9724e-04 - val_loss: 3.2665e-04\n",
      "Epoch 15/25\n",
      "\u001b[1m116/116\u001b[0m \u001b[32m━━━━━━━━━━━━━━━━━━━━\u001b[0m\u001b[37m\u001b[0m \u001b[1m14s\u001b[0m 119ms/step - loss: 2.5574e-04 - val_loss: 2.2766e-04\n",
      "Epoch 16/25\n",
      "\u001b[1m116/116\u001b[0m \u001b[32m━━━━━━━━━━━━━━━━━━━━\u001b[0m\u001b[37m\u001b[0m \u001b[1m15s\u001b[0m 128ms/step - loss: 2.1080e-04 - val_loss: 1.8335e-04\n",
      "Epoch 17/25\n",
      "\u001b[1m116/116\u001b[0m \u001b[32m━━━━━━━━━━━━━━━━━━━━\u001b[0m\u001b[37m\u001b[0m \u001b[1m15s\u001b[0m 131ms/step - loss: 2.1689e-04 - val_loss: 1.5725e-04\n",
      "Epoch 18/25\n",
      "\u001b[1m116/116\u001b[0m \u001b[32m━━━━━━━━━━━━━━━━━━━━\u001b[0m\u001b[37m\u001b[0m \u001b[1m14s\u001b[0m 119ms/step - loss: 2.8537e-04 - val_loss: 1.4533e-04\n",
      "Epoch 19/25\n",
      "\u001b[1m116/116\u001b[0m \u001b[32m━━━━━━━━━━━━━━━━━━━━\u001b[0m\u001b[37m\u001b[0m \u001b[1m14s\u001b[0m 123ms/step - loss: 2.1103e-04 - val_loss: 1.3234e-04\n",
      "Epoch 20/25\n",
      "\u001b[1m116/116\u001b[0m \u001b[32m━━━━━━━━━━━━━━━━━━━━\u001b[0m\u001b[37m\u001b[0m \u001b[1m14s\u001b[0m 122ms/step - loss: 1.5828e-04 - val_loss: 1.3456e-04\n",
      "Epoch 21/25\n",
      "\u001b[1m116/116\u001b[0m \u001b[32m━━━━━━━━━━━━━━━━━━━━\u001b[0m\u001b[37m\u001b[0m \u001b[1m14s\u001b[0m 121ms/step - loss: 1.4423e-04 - val_loss: 0.0011\n",
      "Epoch 22/25\n",
      "\u001b[1m116/116\u001b[0m \u001b[32m━━━━━━━━━━━━━━━━━━━━\u001b[0m\u001b[37m\u001b[0m \u001b[1m13s\u001b[0m 113ms/step - loss: 3.3837e-04 - val_loss: 6.4451e-04\n",
      "Epoch 23/25\n",
      "\u001b[1m116/116\u001b[0m \u001b[32m━━━━━━━━━━━━━━━━━━━━\u001b[0m\u001b[37m\u001b[0m \u001b[1m13s\u001b[0m 113ms/step - loss: 3.3638e-04 - val_loss: 1.8871e-04\n",
      "Epoch 24/25\n",
      "\u001b[1m116/116\u001b[0m \u001b[32m━━━━━━━━━━━━━━━━━━━━\u001b[0m\u001b[37m\u001b[0m \u001b[1m13s\u001b[0m 113ms/step - loss: 1.3964e-04 - val_loss: 1.8994e-04\n",
      "Epoch 25/25\n",
      "\u001b[1m116/116\u001b[0m \u001b[32m━━━━━━━━━━━━━━━━━━━━\u001b[0m\u001b[37m\u001b[0m \u001b[1m13s\u001b[0m 112ms/step - loss: 2.3835e-04 - val_loss: 1.3030e-04\n"
     ]
    },
    {
     "data": {
      "text/plain": [
       "<keras.src.callbacks.history.History at 0x7a28f4431600>"
      ]
     },
     "execution_count": 22,
     "metadata": {},
     "output_type": "execute_result"
    }
   ],
   "source": [
    "#Training the model\n",
    "#Trains the LSTM model on the training data for 25 epochs with a batch size of 30\n",
    "model.fit(X_train,y_train,validation_data = (X_test,y_test), epochs = 25, batch_size=30,verbose=1)"
   ]
  },
  {
   "cell_type": "code",
   "execution_count": 23,
   "id": "4fdd9619",
   "metadata": {
    "execution": {
     "iopub.execute_input": "2025-01-16T08:11:59.746651Z",
     "iopub.status.busy": "2025-01-16T08:11:59.746229Z",
     "iopub.status.idle": "2025-01-16T08:12:02.260594Z",
     "shell.execute_reply": "2025-01-16T08:12:02.259695Z"
    },
    "id": "2M5KiEOsyD_n",
    "outputId": "a400f75e-d7bc-4db5-88d8-a2e3ce315a20",
    "papermill": {
     "duration": 2.691049,
     "end_time": "2025-01-16T08:12:02.262876",
     "exception": false,
     "start_time": "2025-01-16T08:11:59.571827",
     "status": "completed"
    },
    "tags": []
   },
   "outputs": [
    {
     "name": "stdout",
     "output_type": "stream",
     "text": [
      "\u001b[1m45/45\u001b[0m \u001b[32m━━━━━━━━━━━━━━━━━━━━\u001b[0m\u001b[37m\u001b[0m \u001b[1m2s\u001b[0m 46ms/step\n"
     ]
    }
   ],
   "source": [
    "y_pred = scaler.inverse_transform(model.predict(X_test)) #predict test data"
   ]
  },
  {
   "cell_type": "code",
   "execution_count": 24,
   "id": "4867bc61",
   "metadata": {
    "execution": {
     "iopub.execute_input": "2025-01-16T08:12:02.612982Z",
     "iopub.status.busy": "2025-01-16T08:12:02.612604Z",
     "iopub.status.idle": "2025-01-16T08:12:02.618230Z",
     "shell.execute_reply": "2025-01-16T08:12:02.617018Z"
    },
    "id": "ib1zMKSiyD_o",
    "papermill": {
     "duration": 0.184848,
     "end_time": "2025-01-16T08:12:02.620427",
     "exception": false,
     "start_time": "2025-01-16T08:12:02.435579",
     "status": "completed"
    },
    "tags": []
   },
   "outputs": [],
   "source": [
    "y_test = scaler.inverse_transform(y_test.reshape(-1, 1)) #Scale back test data"
   ]
  },
  {
   "cell_type": "code",
   "execution_count": 25,
   "id": "eb77a60a",
   "metadata": {
    "execution": {
     "iopub.execute_input": "2025-01-16T08:12:03.070823Z",
     "iopub.status.busy": "2025-01-16T08:12:03.070405Z",
     "iopub.status.idle": "2025-01-16T08:12:03.077834Z",
     "shell.execute_reply": "2025-01-16T08:12:03.076381Z"
    },
    "id": "XEAdPJYJyD_o",
    "outputId": "475f23dc-3a82-4234-95d4-be284eb6e034",
    "papermill": {
     "duration": 0.198266,
     "end_time": "2025-01-16T08:12:03.080327",
     "exception": false,
     "start_time": "2025-01-16T08:12:02.882061",
     "status": "completed"
    },
    "tags": []
   },
   "outputs": [
    {
     "data": {
      "text/plain": [
       "array([[984.1788 ],\n",
       "       [994.5159 ],\n",
       "       [999.06024],\n",
       "       [994.9946 ],\n",
       "       [989.00885]], dtype=float32)"
      ]
     },
     "execution_count": 25,
     "metadata": {},
     "output_type": "execute_result"
    }
   ],
   "source": [
    "y_pred[:5]"
   ]
  },
  {
   "cell_type": "code",
   "execution_count": 26,
   "id": "66acce13",
   "metadata": {
    "execution": {
     "iopub.execute_input": "2025-01-16T08:12:03.471753Z",
     "iopub.status.busy": "2025-01-16T08:12:03.471352Z",
     "iopub.status.idle": "2025-01-16T08:12:03.477949Z",
     "shell.execute_reply": "2025-01-16T08:12:03.476972Z"
    },
    "id": "aLLBw0I_yD_o",
    "outputId": "114bdb1d-09ec-4ec2-d608-1bb8efc8cc5d",
    "papermill": {
     "duration": 0.182824,
     "end_time": "2025-01-16T08:12:03.480540",
     "exception": false,
     "start_time": "2025-01-16T08:12:03.297716",
     "status": "completed"
    },
    "tags": []
   },
   "outputs": [
    {
     "data": {
      "text/plain": [
       "array([[1013.05],\n",
       "       [1009.3 ],\n",
       "       [ 998.35],\n",
       "       [ 995.1 ],\n",
       "       [ 998.3 ]])"
      ]
     },
     "execution_count": 26,
     "metadata": {},
     "output_type": "execute_result"
    }
   ],
   "source": [
    "y_test[:5]"
   ]
  },
  {
   "cell_type": "markdown",
   "id": "adc06b4f",
   "metadata": {
    "id": "FLI-e4kFyD_o",
    "papermill": {
     "duration": 0.172761,
     "end_time": "2025-01-16T08:12:03.831302",
     "exception": false,
     "start_time": "2025-01-16T08:12:03.658541",
     "status": "completed"
    },
    "tags": []
   },
   "source": [
    "### Model Evaluation"
   ]
  },
  {
   "cell_type": "code",
   "execution_count": 27,
   "id": "f68cce7c",
   "metadata": {
    "execution": {
     "iopub.execute_input": "2025-01-16T08:12:04.184044Z",
     "iopub.status.busy": "2025-01-16T08:12:04.183667Z",
     "iopub.status.idle": "2025-01-16T08:12:04.292294Z",
     "shell.execute_reply": "2025-01-16T08:12:04.291108Z"
    },
    "id": "7pCoypssyD_o",
    "outputId": "c36a4032-a50a-4516-c9ac-50387a56ed8c",
    "papermill": {
     "duration": 0.289234,
     "end_time": "2025-01-16T08:12:04.294546",
     "exception": false,
     "start_time": "2025-01-16T08:12:04.005312",
     "status": "completed"
    },
    "tags": []
   },
   "outputs": [
    {
     "name": "stdout",
     "output_type": "stream",
     "text": [
      "Root Mean Squared Error(test) :  34.446093888535195\n"
     ]
    }
   ],
   "source": [
    "import math\n",
    "from sklearn.metrics import mean_squared_error\n",
    "\n",
    "rmse_score = math.sqrt(mean_squared_error(y_test,y_pred)) #Compute RMSE\n",
    "print('Root Mean Squared Error(test) : ',rmse_score)"
   ]
  },
  {
   "cell_type": "code",
   "execution_count": 28,
   "id": "0bf79a57",
   "metadata": {
    "execution": {
     "iopub.execute_input": "2025-01-16T08:12:04.641574Z",
     "iopub.status.busy": "2025-01-16T08:12:04.641163Z",
     "iopub.status.idle": "2025-01-16T08:12:04.649084Z",
     "shell.execute_reply": "2025-01-16T08:12:04.647960Z"
    },
    "id": "K_Mw6b7myD_p",
    "outputId": "c681813f-f676-4683-dca6-0a8261fd0ce9",
    "papermill": {
     "duration": 0.185454,
     "end_time": "2025-01-16T08:12:04.651609",
     "exception": false,
     "start_time": "2025-01-16T08:12:04.466155",
     "status": "completed"
    },
    "tags": []
   },
   "outputs": [
    {
     "name": "stdout",
     "output_type": "stream",
     "text": [
      "R² score: 0.9727159833173278\n"
     ]
    }
   ],
   "source": [
    "\n",
    "from sklearn.metrics import r2_score\n",
    "\n",
    "\n",
    "# Step 5: Calculate the R² score\n",
    "r2 = r2_score(y_test, y_pred)\n",
    "print(\"R² score:\", r2)\n",
    "\n"
   ]
  },
  {
   "cell_type": "markdown",
   "id": "2a620c4c",
   "metadata": {
    "id": "p8jbKXP6yD_p",
    "papermill": {
     "duration": 0.1739,
     "end_time": "2025-01-16T08:12:05.001534",
     "exception": false,
     "start_time": "2025-01-16T08:12:04.827634",
     "status": "completed"
    },
    "tags": []
   },
   "source": [
    "### visualization + plotting"
   ]
  },
  {
   "cell_type": "code",
   "execution_count": 29,
   "id": "832ad20b",
   "metadata": {
    "execution": {
     "iopub.execute_input": "2025-01-16T08:12:05.407902Z",
     "iopub.status.busy": "2025-01-16T08:12:05.407522Z",
     "iopub.status.idle": "2025-01-16T08:12:09.735609Z",
     "shell.execute_reply": "2025-01-16T08:12:09.734371Z"
    },
    "id": "r5xo0nsgyD_p",
    "outputId": "ba39ad4a-d209-43d2-f6b8-26587d02ab3a",
    "papermill": {
     "duration": 4.506176,
     "end_time": "2025-01-16T08:12:09.737909",
     "exception": false,
     "start_time": "2025-01-16T08:12:05.231733",
     "status": "completed"
    },
    "tags": []
   },
   "outputs": [
    {
     "name": "stdout",
     "output_type": "stream",
     "text": [
      "\u001b[1m108/108\u001b[0m \u001b[32m━━━━━━━━━━━━━━━━━━━━\u001b[0m\u001b[37m\u001b[0m \u001b[1m4s\u001b[0m 37ms/step\n"
     ]
    },
    {
     "data": {
      "image/png": "[encoded data removed]",
      "text/plain": [
       "<Figure size 640x480 with 1 Axes>"
      ]
     },
     "metadata": {},
     "output_type": "display_data"
    }
   ],
   "source": [
    "# shift train predictions for plotting\n",
    "\n",
    "train_predict = scaler.inverse_transform(model.predict(X_train))\n",
    "\n",
    "look_back=100\n",
    "trainPredictPlot = np.empty_like(df1)\n",
    "trainPredictPlot[:, :] = np.nan\n",
    "trainPredictPlot[look_back:len(train_predict)+look_back, :] = train_predict\n",
    "# shift test predictions for plotting\n",
    "testPredictPlot = np.empty_like(df1) \n",
    "testPredictPlot[:, :] = np.nan\n",
    "testPredictPlot[len(train_predict)+(look_back*2)+1:len(df1)-1, :] = y_pred\n",
    "# plot baseline and predictions\n",
    "plt.plot(scaler.inverse_transform(df1)) #Original data\n",
    "plt.plot(trainPredictPlot) #Training predictions\n",
    "plt.plot(testPredictPlot) #Testing predictions\n",
    "plt.legend()\n",
    "plt.show()"
   ]
  },
  {
   "cell_type": "markdown",
   "id": "8f69274e",
   "metadata": {
    "id": "yLsxZ7hLyD_p",
    "papermill": {
     "duration": 0.180547,
     "end_time": "2025-01-16T08:12:10.100022",
     "exception": false,
     "start_time": "2025-01-16T08:12:09.919475",
     "status": "completed"
    },
    "tags": []
   },
   "source": [
    "### predicting 30 Days future value"
   ]
  },
  {
   "cell_type": "code",
   "execution_count": 30,
   "id": "220e2a12",
   "metadata": {
    "execution": {
     "iopub.execute_input": "2025-01-16T08:12:10.457816Z",
     "iopub.status.busy": "2025-01-16T08:12:10.457386Z",
     "iopub.status.idle": "2025-01-16T08:12:10.464476Z",
     "shell.execute_reply": "2025-01-16T08:12:10.463510Z"
    },
    "id": "R4qh5otzyD_p",
    "outputId": "9327be24-c168-45f6-a9af-87d415e9445b",
    "papermill": {
     "duration": 0.188262,
     "end_time": "2025-01-16T08:12:10.466541",
     "exception": false,
     "start_time": "2025-01-16T08:12:10.278279",
     "status": "completed"
    },
    "tags": []
   },
   "outputs": [
    {
     "data": {
      "text/plain": [
       "(1, 100)"
      ]
     },
     "execution_count": 30,
     "metadata": {},
     "output_type": "execute_result"
    }
   ],
   "source": [
    "x_input=test_data[len(test_data)-100:].reshape(1,-1)\n",
    "x_input.shape"
   ]
  },
  {
   "cell_type": "code",
   "execution_count": 31,
   "id": "12e9067e",
   "metadata": {
    "execution": {
     "iopub.execute_input": "2025-01-16T08:12:10.825378Z",
     "iopub.status.busy": "2025-01-16T08:12:10.824951Z",
     "iopub.status.idle": "2025-01-16T08:12:10.830679Z",
     "shell.execute_reply": "2025-01-16T08:12:10.829144Z"
    },
    "id": "Fedy87GlyD_q",
    "papermill": {
     "duration": 0.187444,
     "end_time": "2025-01-16T08:12:10.832833",
     "exception": false,
     "start_time": "2025-01-16T08:12:10.645389",
     "status": "completed"
    },
    "tags": []
   },
   "outputs": [],
   "source": [
    "temp_input=list(x_input)\n",
    "temp_input=temp_input[0].tolist()"
   ]
  },
  {
   "cell_type": "code",
   "execution_count": 32,
   "id": "f98e91d7",
   "metadata": {
    "execution": {
     "iopub.execute_input": "2025-01-16T08:12:11.191304Z",
     "iopub.status.busy": "2025-01-16T08:12:11.190927Z",
     "iopub.status.idle": "2025-01-16T08:12:13.536753Z",
     "shell.execute_reply": "2025-01-16T08:12:13.535603Z"
    },
    "id": "YygOg9exyD_q",
    "papermill": {
     "duration": 2.528341,
     "end_time": "2025-01-16T08:12:13.539549",
     "exception": false,
     "start_time": "2025-01-16T08:12:11.011208",
     "status": "completed"
    },
    "tags": []
   },
   "outputs": [],
   "source": [
    "# demonstrate prediction for next 30 days\n",
    "from numpy import array\n",
    "\n",
    "lst_output=[]\n",
    "n_steps=100\n",
    "i=0\n",
    "while(i<30):   #Predict 30 future data points\n",
    "    \n",
    "    if(len(temp_input)>100):\n",
    "        #print(temp_input)\n",
    "        x_input=np.array(temp_input[1:])\n",
    "        #print(\"{} day input {}\".format(i,x_input))\n",
    "        x_input=x_input.reshape(1,-1)\n",
    "        x_input = x_input.reshape((1, n_steps, 1))\n",
    "        #print(x_input)\n",
    "        yhat = model.predict(x_input, verbose=0)\n",
    "        #print(\"{} day output {}\".format(i,yhat))\n",
    "        temp_input.extend(yhat[0].tolist())\n",
    "        temp_input=temp_input[1:]\n",
    "        #print(temp_input)\n",
    "        lst_output.extend(yhat.tolist())\n",
    "        i=i+1\n",
    "    else:\n",
    "        x_input = x_input.reshape((1, n_steps,1))\n",
    "        yhat = model.predict(x_input, verbose=0)\n",
    "        #print(yhat[0])\n",
    "        temp_input.extend(yhat[0].tolist())\n",
    "        #print(len(temp_input))\n",
    "        lst_output.extend(yhat.tolist())\n",
    "        i=i+1\n",
    "    \n",
    "\n",
    "#print(lst_output)"
   ]
  },
  {
   "cell_type": "code",
   "execution_count": 33,
   "id": "b3cd35f2",
   "metadata": {
    "execution": {
     "iopub.execute_input": "2025-01-16T08:12:13.899224Z",
     "iopub.status.busy": "2025-01-16T08:12:13.898834Z",
     "iopub.status.idle": "2025-01-16T08:12:13.903677Z",
     "shell.execute_reply": "2025-01-16T08:12:13.902632Z"
    },
    "id": "m79Rc_uOyD_q",
    "papermill": {
     "duration": 0.188534,
     "end_time": "2025-01-16T08:12:13.905998",
     "exception": false,
     "start_time": "2025-01-16T08:12:13.717464",
     "status": "completed"
    },
    "tags": []
   },
   "outputs": [],
   "source": [
    "day_new=np.arange(1,101) #Last 100 days\n",
    "day_pred=np.arange(101,131) #Next 30 days"
   ]
  },
  {
   "cell_type": "code",
   "execution_count": 34,
   "id": "179c6100",
   "metadata": {
    "execution": {
     "iopub.execute_input": "2025-01-16T08:12:14.327810Z",
     "iopub.status.busy": "2025-01-16T08:12:14.327345Z",
     "iopub.status.idle": "2025-01-16T08:12:14.333419Z",
     "shell.execute_reply": "2025-01-16T08:12:14.332421Z"
    },
    "id": "2VIxh2lZyD_q",
    "outputId": "457e0b6c-16ff-4647-b41a-c4a5900113ba",
    "papermill": {
     "duration": 0.247915,
     "end_time": "2025-01-16T08:12:14.335411",
     "exception": false,
     "start_time": "2025-01-16T08:12:14.087496",
     "status": "completed"
    },
    "tags": []
   },
   "outputs": [
    {
     "name": "stdout",
     "output_type": "stream",
     "text": [
      "[[1450.75683805]\n",
      " [1446.50759476]\n",
      " [1437.0631032 ]\n",
      " [1426.89833841]\n",
      " [1416.72610918]\n",
      " [1406.87323196]\n",
      " [1397.46345453]\n",
      " [1388.47744128]\n",
      " [1379.82912637]\n",
      " [1371.41472714]\n",
      " [1363.14278174]\n",
      " [1354.94673977]\n",
      " [1346.78658107]\n",
      " [1338.64521835]\n",
      " [1330.52121271]\n",
      " [1322.42274802]\n",
      " [1314.36241492]\n",
      " [1306.35280402]\n",
      " [1298.40479721]\n",
      " [1290.52612873]\n",
      " [1282.72210462]\n",
      " [1274.99371414]\n",
      " [1267.34122709]\n",
      " [1259.76311462]\n",
      " [1252.25694854]\n",
      " [1244.81886171]\n",
      " [1237.44696556]\n",
      " [1230.13784263]\n",
      " [1222.88924459]\n",
      " [1215.69847345]]\n"
     ]
    }
   ],
   "source": [
    "print(scaler.inverse_transform(lst_output))"
   ]
  },
  {
   "cell_type": "code",
   "execution_count": 35,
   "id": "ff6368e0",
   "metadata": {
    "execution": {
     "iopub.execute_input": "2025-01-16T08:12:14.696834Z",
     "iopub.status.busy": "2025-01-16T08:12:14.696345Z",
     "iopub.status.idle": "2025-01-16T08:12:14.902169Z",
     "shell.execute_reply": "2025-01-16T08:12:14.901011Z"
    },
    "id": "V924h76YyD_q",
    "outputId": "7a8d4a46-0aa2-41df-b649-05d4fdcfd782",
    "papermill": {
     "duration": 0.38741,
     "end_time": "2025-01-16T08:12:14.904303",
     "exception": false,
     "start_time": "2025-01-16T08:12:14.516893",
     "status": "completed"
    },
    "tags": []
   },
   "outputs": [
    {
     "data": {
      "text/plain": [
       "[<matplotlib.lines.Line2D at 0x7a28d1ef7700>]"
      ]
     },
     "execution_count": 35,
     "metadata": {},
     "output_type": "execute_result"
    },
    {
     "data": {
      "image/png": "[encoded data removed]",
      "text/plain": [
       "<Figure size 640x480 with 1 Axes>"
      ]
     },
     "metadata": {},
     "output_type": "display_data"
    }
   ],
   "source": [
    "plt.plot(day_new,scaler.inverse_transform(df1[len(df1)-100:]))\n",
    "plt.plot(day_pred,scaler.inverse_transform(lst_output))"
   ]
  },
  {
   "cell_type": "code",
   "execution_count": null,
   "id": "69df9dd4",
   "metadata": {
    "papermill": {
     "duration": 0.184187,
     "end_time": "2025-01-16T08:12:15.268797",
     "exception": false,
     "start_time": "2025-01-16T08:12:15.084610",
     "status": "completed"
    },
    "tags": []
   },
   "outputs": [],
   "source": []
  },
  {
   "cell_type": "code",
   "execution_count": null,
   "id": "5689edc8",
   "metadata": {
    "papermill": {
     "duration": 0.177694,
     "end_time": "2025-01-16T08:12:15.628929",
     "exception": false,
     "start_time": "2025-01-16T08:12:15.451235",
     "status": "completed"
    },
    "tags": []
   },
   "outputs": [],
   "source": []
  },
  {
   "cell_type": "code",
   "execution_count": null,
   "id": "0b14bc07",
   "metadata": {
    "papermill": {
     "duration": 0.239887,
     "end_time": "2025-01-16T08:12:16.048351",
     "exception": false,
     "start_time": "2025-01-16T08:12:15.808464",
     "status": "completed"
    },
    "tags": []
   },
   "outputs": [],
   "source": []
  },
  {
   "cell_type": "code",
   "execution_count": null,
   "id": "d0abe82f",
   "metadata": {
    "papermill": {
     "duration": 0.180843,
     "end_time": "2025-01-16T08:12:16.407579",
     "exception": false,
     "start_time": "2025-01-16T08:12:16.226736",
     "status": "completed"
    },
    "tags": []
   },
   "outputs": [],
   "source": []
  }
 ],
 "metadata": {
  "colab": {
   "include_colab_link": true,
   "provenance": []
  },
  "kaggle": {
   "accelerator": "none",
   "dataSources": [
    {
     "datasetId": 6242146,
     "sourceId": 10117113,
     "sourceType": "datasetVersion"
    },
    {
     "isSourceIdPinned": true,
     "modelId": 184418,
     "modelInstanceId": 162055,
     "sourceId": 190072,
     "sourceType": "modelInstanceVersion"
    }
   ],
   "dockerImageVersionId": 30804,
   "isGpuEnabled": false,
   "isInternetEnabled": false,
   "language": "python",
   "sourceType": "notebook"
  },
  "kernelspec": {
   "display_name": "Python 3",
   "language": "python",
   "name": "python3"
  },
  "language_info": {
   "codemirror_mode": {
    "name": "ipython",
    "version": 3
   },
   "file_extension": ".py",
   "mimetype": "text/x-python",
   "name": "python",
   "nbconvert_exporter": "python",
   "pygments_lexer": "ipython3",
   "version": "3.10.14"
  },
  "papermill": {
   "default_parameters": {},
   "duration": 391.030983,
   "end_time": "2025-01-16T08:12:18.414183",
   "environment_variables": {},
   "exception": null,
   "input_path": "__notebook__.ipynb",
   "output_path": "__notebook__.ipynb",
   "parameters": {},
   "start_time": "2025-01-16T08:05:47.383200",
   "version": "2.6.0"
  }
 },
 "nbformat": 4,
 "nbformat_minor": 5
}
